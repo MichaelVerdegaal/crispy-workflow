{
 "cells": [
  {
   "cell_type": "markdown",
   "source": [
    "# Phase 2. Data Understanding\n",
    "\n",
    "The data understanding phase starts with initial data collection and proceeds with activities\n",
    "that enable you to become familiar with the data, identify data quality problems,\n",
    "discover first insights into the data, and/or detect interesting subsets to form hypotheses."
   ],
   "metadata": {
    "collapsed": false
   }
  },
  {
   "cell_type": "markdown",
   "source": [
    "## 2.1 Data collection report\n",
    "\n",
    "### 2.1.1 Task\n",
    "Write up a concrete plan for your data collection efforts. Aquire the necessary data in raw form, and \n",
    "evaluate whether it is of sufficient quality to meet the requirements of your project.\n",
    "\n",
    "### 2.1.1 Output\n",
    "\n",
    "#### 2.1.1.1 Dataset goals\n",
    "Describe the intended goal of the data you’ll be gathering. Use your business goal and data mining goal from phase 1 as reference.\n",
    "\n",
    "#### 2.1.1.2 Data sources\n",
    "Identify your available data sources (e.g., databases, surveys, interviews).\n",
    "\n",
    "#### 2.1.1.3 Data selection criteria\n",
    "Set criteria for selecting data, considering relevance and timeframe.\n",
    "\n",
    "#### 2.1.1.4 Sampling strategy\n",
    "Choose a data sampling strategy based on research needs. See \n",
    "[this article](https://www.scribbr.com/methodology/sampling-methods/) for reference on strategies.\n",
    "\n",
    "#### 2.1.1.5 Data collection methods\n",
    "Describe in a surface level manner what steps are necessary for you to collect the data you need.\n",
    "\n",
    "#### 2.1.1.6 Data quality assurance\n",
    "Describe how you’ll assess that the data collected will be of sufficient quality.\n",
    "\n",
    "#### 2.1.1.7 Pilot test\n",
    "Conduct a small-scale collection to explore whether the intended data collection methods are \n",
    "applicable, or will need to be adjusted. Skip this step based on your own discretion.\n",
    "\n",
    "#### 2.1.1.8 Collection\n",
    "Perform the final dataset collection. Describe every step taken in detail.\n",
    "\n",
    "#### 2.1.1.9 Results\n",
    "List and describe the final datasets acquired.\n",
    "\n",
    "#### 2.1.1.10 Evaluation\n",
    "Describe the resulting data and whether it achieved your dataset goals. If not, describe what \n",
    "went wrong and how you’ll adjust your data collection methods in the future.\n"
   ],
   "metadata": {
    "collapsed": false,
    "pycharm": {
     "name": "#%% md\n"
    }
   }
  },
  {
   "cell_type": "markdown",
   "source": [
    "## 2.2 Describe data\n",
    "\n",
    "### 2.2.1 Task\n",
    "\n",
    "Examine the “gross” or “surface” properties of the acquired data and report on the results.\n",
    "\n",
    "### 2.2.2 Output\n",
    "\n",
    "#### 2.2.2.1 Data description report\n",
    "\n",
    "Describe the data that has been acquired, including the format of the data, the quantity of data\n",
    "(for example, the number of records and fields in each table), the identities of the fields, and\n",
    "any other surface features which have been discovered."
   ],
   "metadata": {
    "collapsed": false,
    "pycharm": {
     "name": "#%% md\n"
    }
   }
  },
  {
   "cell_type": "markdown",
   "source": [
    "## 2.3 Explore data\n",
    "\n",
    "### 2.3.1 Task\n",
    "\n",
    "This task addresses data mining questions using querying, visualization, and reporting techniques.\n",
    "These include distribution of key attributes (for example, the target attribute of a prediction task)\n",
    "relationships between pairs or small numbers of attributes, results of simple aggregations,\n",
    "properties of significant sub-populations, and simple statistical analyses.\n",
    "\n",
    "### 2.3.2 Output\n",
    "\n",
    "Describe results of this task, including first findings or initial hypothesis and their impact on\n",
    "the remainder of the project."
   ],
   "metadata": {
    "collapsed": false
   }
  },
  {
   "cell_type": "markdown",
   "source": [
    "## 2.4 Verify data quality\n",
    "\n",
    "### 2.4.1 Task\n",
    "\n",
    "Examine the quality of the data, addressing questions such as: Is the data complete (does it\n",
    "cover all the cases required)? Is it correct, or does it contain errors and, if there are\n",
    "errors, how common are they?\n",
    "\n",
    "### 2.4.2 Output\n",
    "\n",
    "#### 2.4.2.1 Data exploration report\n",
    "\n",
    "List the results of the data quality verification; if quality problems exist, list possible\n",
    "solutions."
   ],
   "metadata": {
    "collapsed": false
   }
  }
 ],
 "metadata": {
  "kernelspec": {
   "display_name": "Python 3",
   "language": "python",
   "name": "python3"
  },
  "language_info": {
   "codemirror_mode": {
    "name": "ipython",
    "version": 2
   },
   "file_extension": ".py",
   "mimetype": "text/x-python",
   "name": "python",
   "nbconvert_exporter": "python",
   "pygments_lexer": "ipython2",
   "version": "2.7.6"
  }
 },
 "nbformat": 4,
 "nbformat_minor": 0
}

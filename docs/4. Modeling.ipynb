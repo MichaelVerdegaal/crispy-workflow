{
 "cells": [
  {
   "cell_type": "markdown",
   "metadata": {
    "collapsed": true,
    "pycharm": {
     "name": "#%% md\n"
    }
   },
   "source": [
    "# Phase 4. Modeling\n",
    "\n",
    "In this phase, modeling techniques are selected and applied, and their parameters are\n",
    "calibrated to optimal values. Typically, there are several techniques for the same data mining\n",
    "problem type. Some techniques have specific requirements on the form of data. Therefore,\n",
    "going back to the data preparation phase is often necessary."
   ]
  },
  {
   "cell_type": "markdown",
   "source": [
    "## 4.1 Select modeling techniques\n",
    "\n",
    "### 4.1.1 Task\n",
    "\n",
    "As the first step in modeling, select the actual modeling technique that is to be used. Although\n",
    "you may have already selected a tool, this task refers to the specific modeling technique (e.g. \n",
    "decision tree, linear regression, etc.) to be employed.\n",
    "\n",
    "### 4.1.2 Output\n",
    "\n",
    "#### 4.1.2.1 Modeling technique\n",
    "\n",
    "Document the actual modeling technique(s) used\n",
    "\n",
    "#### 4.1.2.2 Modeling assumptions\n",
    "\n",
    "Many models make assumptions about the data, recording any of such assumptions made, and if it \n",
    "influenced the data preparation phase."
   ],
   "metadata": {
    "collapsed": false
   }
  },
  {
   "cell_type": "markdown",
   "source": [
    "## 4.2 Generate test design\n",
    "\n",
    "### 4.2.1 Task\n",
    "\n",
    "Before we actually build a model, we need to generate a procedure or mechanism to test the model’s\n",
    "quality and validity.\n",
    "\n",
    "### 4.2.2 Output\n",
    "\n",
    "#### 4.2.2.1 Test design\n",
    "\n",
    "Describe the intended plan for training, testing, and evaluating the models."
   ],
   "metadata": {
    "collapsed": false
   }
  },
  {
   "cell_type": "markdown",
   "source": [
    "## 4.3 Build model\n",
    "\n",
    "### 4.3.1 Task\n",
    "\n",
    "Run the modeling tool on the prepared dataset to create one or more models.\n",
    "\n",
    "### 4.3.2 Output\n",
    "\n",
    "#### 4.3.2.1 Parameter settings\n",
    "\n",
    "With any modeling tool, there are often a large number of parameters that can be adjusted. List the\n",
    "parameters and their chosen values, along with the rationale for the choice of parameter settings.\n",
    "\n",
    "#### 4.3.2.2 Models\n",
    "These are the actual models produced by the modeling tool, not a report.\n",
    "\n",
    "#### 4.3.2.3 Model descriptions\n",
    "Describe the resulting models. Report on the interpretation of the models and document any\n",
    "difficulties encountered with their meanings."
   ],
   "metadata": {
    "collapsed": false
   }
  },
  {
   "cell_type": "markdown",
   "source": [
    "## 4.4 Assess model\n",
    "\n",
    "### 4.4.1 Task\n",
    "\n",
    "Interpret the model(s) according to available domain knowledge, success criteria and the desired\n",
    "test design. The success of the modeling and discovered techniques need to be judged technically.\n",
    "The models need to be evaluated according to the evaluation criteria, and ranked in relation to each\n",
    "other in case of multiple models.\n",
    "\n",
    "### 4.4.2 Output\n",
    "\n",
    "#### 4.4.2.1 Model assessment\n",
    "\n",
    "Summarize results of this task, list qualities of generated model(s) (e.g., in terms of accuracy). Rank their relative quality if applicable.\n",
    "\n",
    "#### 4.4.2.2 Revised parameter settings\n",
    "\n",
    "If noticed that the parameters for some models need to be adjusted based on the prior assessment, \n",
    "list the final parameter settings used for each model. Follow the same format as in 4.4.2.1. "
   ],
   "metadata": {
    "collapsed": false
   }
  }
 ],
 "metadata": {
  "kernelspec": {
   "display_name": "Python 3",
   "language": "python",
   "name": "python3"
  },
  "language_info": {
   "codemirror_mode": {
    "name": "ipython",
    "version": 2
   },
   "file_extension": ".py",
   "mimetype": "text/x-python",
   "name": "python",
   "nbconvert_exporter": "python",
   "pygments_lexer": "ipython2",
   "version": "2.7.6"
  }
 },
 "nbformat": 4,
 "nbformat_minor": 0
}
